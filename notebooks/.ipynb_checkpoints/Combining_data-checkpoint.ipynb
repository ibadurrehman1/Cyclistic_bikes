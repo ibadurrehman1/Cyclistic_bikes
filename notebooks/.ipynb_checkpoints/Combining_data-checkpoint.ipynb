{
 "cells": [
  {
   "cell_type": "markdown",
   "id": "5105ca06-9220-4f49-b3c3-171ddab41a18",
   "metadata": {
    "tags": []
   },
   "source": [
    "# Importing all libraries use in this project"
   ]
  },
  {
   "cell_type": "code",
   "execution_count": 1,
   "id": "e05ece20-d283-417a-bba3-f85d05b097bb",
   "metadata": {},
   "outputs": [],
   "source": [
    "import pandas as pd\n",
    "import matplotlib.pyplot as plt"
   ]
  },
  {
   "cell_type": "markdown",
   "id": "07e9d235-f79a-4554-b5d0-9b81f13d3892",
   "metadata": {},
   "source": [
    "### Importing latest 12 month data"
   ]
  },
  {
   "cell_type": "code",
   "execution_count": 2,
   "id": "c0b085b3-8708-42e4-99cb-54f357fcc7ff",
   "metadata": {},
   "outputs": [],
   "source": [
    "df_22_01=pd.read_csv('../datasets/202201-divvy-tripdata.csv')\n",
    "\n",
    "df_22_02=pd.read_csv('../datasets/202202-divvy-tripdata.csv')\n",
    "\n",
    "df_21_03=pd.read_csv('../datasets/202103-divvy-tripdata.csv')\n",
    "\n",
    "df_21_04=pd.read_csv('../datasets/202104-divvy-tripdata.csv')\n",
    "\n",
    "df_21_05=pd.read_csv('../datasets/202105-divvy-tripdata.csv')\n",
    "\n",
    "df_21_06=pd.read_csv('../datasets/202106-divvy-tripdata.csv')\n",
    "\n",
    "df_21_07=pd.read_csv('../datasets/202107-divvy-tripdata.csv')\n",
    "\n",
    "df_21_08=pd.read_csv('../datasets/202108-divvy-tripdata.csv')\n",
    "\n",
    "df_21_09=pd.read_csv('../datasets/202109-divvy-tripdata.csv')\n",
    "\n",
    "df_21_10=pd.read_csv('../datasets/202110-divvy-tripdata.csv')\n",
    "\n",
    "df_21_11=pd.read_csv('../datasets/202111-divvy-tripdata.csv')\n",
    "\n",
    "df_21_12=pd.read_csv('../datasets/202112-divvy-tripdata.csv')"
   ]
  },
  {
   "cell_type": "code",
   "execution_count": 3,
   "id": "e01ab703-e4b9-4cba-a4cf-4f69d761d2c2",
   "metadata": {},
   "outputs": [],
   "source": [
    "datasets_list=[df_22_01,\n",
    "               df_22_02,\n",
    "               df_21_03,\n",
    "               df_21_04,\n",
    "               df_21_05,\n",
    "               df_21_06,\n",
    "               df_21_07,\n",
    "               df_21_08,\n",
    "               df_21_09,\n",
    "               df_21_10,\n",
    "               df_21_11,\n",
    "               df_21_12\n",
    "              ]"
   ]
  },
  {
   "cell_type": "code",
   "execution_count": null,
   "id": "56a12c38-1ac0-41bb-a5f6-a31cf90e08f5",
   "metadata": {},
   "outputs": [],
   "source": []
  },
  {
   "cell_type": "code",
   "execution_count": 4,
   "id": "4865f467-b518-45d1-80ca-91a4ab186b18",
   "metadata": {},
   "outputs": [
    {
     "name": "stdout",
     "output_type": "stream",
     "text": [
      "df_22_01 has 13 columns\n",
      "df_22_02 has 13 columns\n",
      "df_21_03 has 13 columns\n",
      "df_21_04 has 13 columns\n",
      "df_21_05 has 13 columns\n",
      "df_21_06 has 13 columns\n",
      "df_21_07 has 13 columns\n",
      "df_21_08 has 13 columns\n",
      "df_21_09 has 13 columns\n",
      "df_21_10 has 13 columns\n",
      "df_21_11 has 13 columns\n",
      "df_21_12 has 13 columns\n"
     ]
    }
   ],
   "source": [
    "# checking if all dataset have same amount of columns.\n",
    "for i in range(12):\n",
    "    j=i+1\n",
    "    if i<=1:\n",
    "        print(\"df_22_\"+str(j).zfill(2),end='')\n",
    "    else:\n",
    "        print(\"df_21_\"+str(j).zfill(2),end='')\n",
    "    print(\" has\", datasets_list[i].shape[1],\"columns\")"
   ]
  },
  {
   "cell_type": "code",
   "execution_count": 6,
   "id": "2c75dea4-3d06-4042-97eb-99fb78b65bb4",
   "metadata": {},
   "outputs": [
    {
     "name": "stdout",
     "output_type": "stream",
     "text": [
      "True\n"
     ]
    }
   ],
   "source": [
    "# checking if all dataset have same columns.\n",
    "use_col_name=[] # will append new column names\n",
    "\n",
    "for i in range(12):\n",
    "    for j in range(len(datasets_list[1].columns)):\n",
    "        element=datasets_list[i].columns[j]\n",
    "        if element not in use_col_name:\n",
    "            use_col_name.append(datasets_list[i].columns[j])\n",
    "    \n",
    "if len(use_col_name)==13:\n",
    "    print(True)\n"
   ]
  },
  {
   "cell_type": "markdown",
   "id": "fd3a6bae-f7c8-479c-97b4-5e97216ce81a",
   "metadata": {},
   "source": [
    "In the last two step we validate that all datasets have same number of column and columns names are also identical.So, now we can merge them into one dataframe without any worries."
   ]
  },
  {
   "cell_type": "code",
   "execution_count": 7,
   "id": "55330a33-4788-4622-b514-96d23cc4e46c",
   "metadata": {},
   "outputs": [],
   "source": [
    "main_df=pd.concat(datasets_list,ignore_index=True)\n"
   ]
  },
  {
   "cell_type": "code",
   "execution_count": 8,
   "id": "ce336205-0633-432f-955e-ca23f8c9057d",
   "metadata": {},
   "outputs": [
    {
     "data": {
      "text/plain": [
       "(5667986, 13)"
      ]
     },
     "execution_count": 8,
     "metadata": {},
     "output_type": "execute_result"
    }
   ],
   "source": [
    "main_df.shape"
   ]
  },
  {
   "cell_type": "code",
   "execution_count": 9,
   "id": "3dfbef37-8d13-4844-9b71-734250ec4283",
   "metadata": {},
   "outputs": [],
   "source": [
    "main_df.to_csv(\"../datasets/main_df.csv\")\n"
   ]
  },
  {
   "cell_type": "code",
   "execution_count": null,
   "id": "3246e40b",
   "metadata": {},
   "outputs": [],
   "source": []
  }
 ],
 "metadata": {
  "kernelspec": {
   "display_name": "Python 3 (ipykernel)",
   "language": "python",
   "name": "python3"
  },
  "language_info": {
   "codemirror_mode": {
    "name": "ipython",
    "version": 3
   },
   "file_extension": ".py",
   "mimetype": "text/x-python",
   "name": "python",
   "nbconvert_exporter": "python",
   "pygments_lexer": "ipython3",
   "version": "3.10.2"
  }
 },
 "nbformat": 4,
 "nbformat_minor": 5
}
